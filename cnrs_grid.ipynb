{
 "cells": [
  {
   "cell_type": "code",
   "execution_count": 5,
   "id": "360851a7",
   "metadata": {},
   "outputs": [],
   "source": [
    "import pandas as pd\n",
    "import requests\n",
    "\n",
    "input_data_file = 'fr-esr-structures-recherche-publiques-actives.csv'\n",
    "output_data_file = 'fr-esr-structures-recherche-publiques-actives-with-grid.csv'\n",
    "MATCHER_IP = 'http://**.***.***.***'\n",
    "matcher_url = f'{MATCHER_IP}/match_api'"
   ]
  },
  {
   "cell_type": "code",
   "execution_count": 6,
   "id": "9e81315d",
   "metadata": {},
   "outputs": [
    {
     "name": "stdout",
     "output_type": "stream",
     "text": [
      "Number of structures : 4506\n"
     ]
    }
   ],
   "source": [
    "# 1. Load all structures\n",
    "all_structures = pd.read_csv(input_data_file, sep=';')\n",
    "print(f'Number of structures : {len(all_structures)}')"
   ]
  },
  {
   "cell_type": "code",
   "execution_count": 7,
   "id": "c7fb170e",
   "metadata": {},
   "outputs": [
    {
     "name": "stdout",
     "output_type": "stream",
     "text": [
      "Number of CNRS structures : 1640\n"
     ]
    }
   ],
   "source": [
    "# 2. Filter to get the CNRS' structure\n",
    "cnrs_structures = all_structures[all_structures.sigles_des_tutelles.str.contains('CNRS')]\n",
    "print(f'Number of CNRS structures : {len(cnrs_structures)}')"
   ]
  },
  {
   "cell_type": "code",
   "execution_count": 8,
   "id": "767088fd",
   "metadata": {},
   "outputs": [
    {
     "name": "stderr",
     "output_type": "stream",
     "text": [
      "/usr/local/lib/python3.8/dist-packages/pandas/core/indexing.py:1684: SettingWithCopyWarning: \n",
      "A value is trying to be set on a copy of a slice from a DataFrame.\n",
      "Try using .loc[row_indexer,col_indexer] = value instead\n",
      "\n",
      "See the caveats in the documentation: https://pandas.pydata.org/pandas-docs/stable/user_guide/indexing.html#returning-a-view-versus-a-copy\n",
      "  self.obj[key] = infer_fill_value(value)\n",
      "/usr/local/lib/python3.8/dist-packages/pandas/core/indexing.py:1817: SettingWithCopyWarning: \n",
      "A value is trying to be set on a copy of a slice from a DataFrame.\n",
      "Try using .loc[row_indexer,col_indexer] = value instead\n",
      "\n",
      "See the caveats in the documentation: https://pandas.pydata.org/pandas-docs/stable/user_guide/indexing.html#returning-a-view-versus-a-copy\n",
      "  self._setitem_single_column(loc, value, pi)\n"
     ]
    }
   ],
   "source": [
    "# 3. Build the query and query the matcher\n",
    "def get_value_from_field(row: object, field: str) -> str:\n",
    "    value = row.get(field, '')\n",
    "    value = '' if not isinstance(value, str) else value\n",
    "    return value\n",
    "\n",
    "def build_query(row: object) -> str:\n",
    "    libelle = get_value_from_field(row=row, field='libelle')\n",
    "    sigle = get_value_from_field(row=row, field='sigle')\n",
    "    commune = get_value_from_field(row=row, field='commune')\n",
    "    return f'{libelle} {sigle} {commune} France'\n",
    "\n",
    "for index, row in cnrs_structures.iterrows():\n",
    "    query = build_query(row=row)\n",
    "    json = {'type': 'grid', 'query': query }\n",
    "    results = requests.post(url=matcher_url, json=json).json().get('results', [])\n",
    "    grid = results[0] if len(results) > 0 else ''\n",
    "    # Add an alternativ strategy based on the structure's name, its acronym and its country\n",
    "    if grid == '':\n",
    "       strategies = [[['grid_name', 'grid_acronym', 'grid_country']]]\n",
    "       json = {'type': 'grid', 'query': query, 'strategies': strategies }\n",
    "       results = requests.post(url=matcher_url, json=json).json().get('results', [])\n",
    "       grid = results[0] if len(results) > 0 else ''\n",
    "    cnrs_structures.loc[index, 'grid'] = grid"
   ]
  },
  {
   "cell_type": "code",
   "execution_count": 9,
   "id": "e515a3c9",
   "metadata": {},
   "outputs": [
    {
     "name": "stdout",
     "output_type": "stream",
     "text": [
      "Sucess rate : 43.109756097560975\n"
     ]
    }
   ],
   "source": [
    "# 4. Export results into a csv file\n",
    "cnrs_structures.to_csv(output_data_file)\n",
    "success_rate = len(cnrs_structures[cnrs_structures['grid'] != '']) / len(cnrs_structures) * 100\n",
    "print(f'Sucess rate : {success_rate}')"
   ]
  }
 ],
 "metadata": {
  "kernelspec": {
   "display_name": "Python 3",
   "language": "python",
   "name": "python3"
  },
  "language_info": {
   "codemirror_mode": {
    "name": "ipython",
    "version": 3
   },
   "file_extension": ".py",
   "mimetype": "text/x-python",
   "name": "python",
   "nbconvert_exporter": "python",
   "pygments_lexer": "ipython3",
   "version": "3.8.10"
  }
 },
 "nbformat": 4,
 "nbformat_minor": 5
}
